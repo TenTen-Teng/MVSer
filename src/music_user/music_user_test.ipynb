{
 "cells": [
  {
   "cell_type": "code",
   "execution_count": null,
   "id": "1357969d-e442-4d0a-9732-0fe42c39daf3",
   "metadata": {},
   "outputs": [],
   "source": [
    "%env SPOTIFY_CLIENT_ID=your_client_id_here\n",
    "%env SPOTIFY_CLIENT_SECRET=your_client_secret_here"
   ]
  },
  {
   "cell_type": "code",
   "execution_count": null,
   "id": "66f26364-70f7-44db-91a3-4d2248407e9a",
   "metadata": {},
   "outputs": [],
   "source": [
    "# from music_user.music import Music\n",
    "# from music_user.user import User\n",
    "\n",
    "from music import Music\n",
    "from user import User\n",
    "\n",
    "def test_music_class():\n",
    "    \"\"\"\n",
    "    Simple test for the Music class.\n",
    "    \"\"\"\n",
    "    try:\n",
    "        print(\"Testing Music Class...\")\n",
    "\n",
    "        # Create an instance of the Music class\n",
    "        music = Music()\n",
    "\n",
    "        # Test music_search\n",
    "        movie_name = \"Harry Potter\"\n",
    "        search_results = music.music_search(movie_name, {\"num_results\": 3})\n",
    "        print(f\"\\nSearch Results for '{movie_name}':\")\n",
    "        for result in search_results:\n",
    "            print(result)\n",
    "\n",
    "        # Test music_recom\n",
    "        recommendations = music.music_recom({\"genre\": \"pop\", \"num_recom\": 2})\n",
    "        print(\"\\nMusic Recommendations for genre 'pop':\")\n",
    "        for rec in recommendations:\n",
    "            print(rec)\n",
    "\n",
    "    except Exception as e:\n",
    "        print(f\"Error during Music Class test: {e}\")\n",
    "\n",
    "\n",
    "def test_user_class():\n",
    "    \"\"\"\n",
    "    Simple test for the User class.\n",
    "    \"\"\"\n",
    "    try:\n",
    "        print(\"\\nTesting User Class...\")\n",
    "\n",
    "        # Create an instance of the User class\n",
    "        user = User()\n",
    "\n",
    "        # Display default preferences\n",
    "        print(\"\\nDefault Preferences:\")\n",
    "        user.display_preference()\n",
    "\n",
    "        # Simulate user input\n",
    "        print(\"\\nUpdating preferences...\")\n",
    "        user.user_input()\n",
    "        print(\"\\nUpdated Preferences:\")\n",
    "        user.display_preference()\n",
    "\n",
    "    except Exception as e:\n",
    "        print(f\"Error during User Class test: {e}\")\n",
    "\n",
    "\n",
    "if __name__ == \"__main__\":\n",
    "    # Run tests for both classes\n",
    "    test_music_class()\n",
    "    print(\"\\n\" + \"-\" * 40 + \"\\n\")\n",
    "    test_user_class()"
   ]
  },
  {
   "cell_type": "code",
   "execution_count": null,
   "id": "211527d1-4366-4f35-9917-150311511fb0",
   "metadata": {},
   "outputs": [],
   "source": [
    "import os\n",
    "from spotipy.oauth2 import SpotifyClientCredentials\n",
    "import spotipy\n",
    "\n",
    "os.environ[\"SPOTIPY_CLIENT_ID\"] = \"\"\n",
    "os.environ[\"SPOTIPY_CLIENT_SECRET\"] = \"\"\n",
    "\n",
    "auth_manager = SpotifyClientCredentials()\n",
    "sp = spotipy.Spotify(auth_manager=auth_manager)\n",
    "\n",
    "result = sp.search(\"harry potter\", type='album')\n",
    "print(result)"
   ]
  }
 ],
 "metadata": {
  "kernelspec": {
   "display_name": "Python 3 (ipykernel)",
   "language": "python",
   "name": "python3"
  },
  "language_info": {
   "codemirror_mode": {
    "name": "ipython",
    "version": 3
   },
   "file_extension": ".py",
   "mimetype": "text/x-python",
   "name": "python",
   "nbconvert_exporter": "python",
   "pygments_lexer": "ipython3",
   "version": "3.9.13"
  }
 },
 "nbformat": 4,
 "nbformat_minor": 5
}
