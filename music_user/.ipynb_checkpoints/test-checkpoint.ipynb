{
 "cells": [
  {
   "cell_type": "code",
   "execution_count": null,
   "id": "0264d0e3-c6c5-4edf-9c88-a05e6890ab60",
   "metadata": {},
   "outputs": [],
   "source": [
    "import os\n",
    "print(os.getcwd())"
   ]
  },
  {
   "cell_type": "code",
   "execution_count": null,
   "id": "5936122e-2518-49f9-bc57-28731988cd3d",
   "metadata": {},
   "outputs": [],
   "source": [
    "# Create and write to the .env file\n",
    "with open('.env', 'w') as file:\n",
    "    file.write(\"SPOTIFY_API_KEY=BQD90evgXxwvyqneNDgrlnZMfPJMVQO1Z6OfPAhRV0pLnewBJha7xAjEhaj9FGVZDKuLQw7jgxdGe7AyTH1Hu35QdUxcRpsAl46WXCmB42FS8bJhScQ\\n\")"
   ]
  },
  {
   "cell_type": "code",
   "execution_count": null,
   "id": "facb20d1-4d6e-494c-9239-3ae3b53d602d",
   "metadata": {},
   "outputs": [],
   "source": [
    "# Check if the .env file exists\n",
    "print(\".env exists:\", os.path.exists('.env'))\n",
    "\n",
    "# Print its contents\n",
    "with open('.env', 'r') as file:\n",
    "    print(file.read())"
   ]
  },
  {
   "cell_type": "code",
   "execution_count": null,
   "id": "25d4d32a-e941-474c-81e9-8d20c77e350a",
   "metadata": {},
   "outputs": [],
   "source": [
    "print(os.listdir())"
   ]
  }
 ],
 "metadata": {
  "kernelspec": {
   "display_name": "Python 3 (ipykernel)",
   "language": "python",
   "name": "python3"
  },
  "language_info": {
   "codemirror_mode": {
    "name": "ipython",
    "version": 3
   },
   "file_extension": ".py",
   "mimetype": "text/x-python",
   "name": "python",
   "nbconvert_exporter": "python",
   "pygments_lexer": "ipython3",
   "version": "3.9.13"
  }
 },
 "nbformat": 4,
 "nbformat_minor": 5
}
