{
 "cells": [
  {
   "cell_type": "code",
   "execution_count": null,
   "id": "1357969d-e442-4d0a-9732-0fe42c39daf3",
   "metadata": {},
   "outputs": [],
   "source": [
    "%env SPOTIFY_CLIENT_ID=your_client_id_here\n",
    "%env SPOTIFY_CLIENT_SECRET=your_client_secret_here"
   ]
  },
  {
   "cell_type": "code",
   "execution_count": 2,
   "id": "66f26364-70f7-44db-91a3-4d2248407e9a",
   "metadata": {},
   "outputs": [
    {
     "name": "stdout",
     "output_type": "stream",
     "text": [
      "Testing Music Class...\n",
      "\n",
      "Search Results for 'Harry Potter':\n",
      "{'album_urls': 'https://open.spotify.com/album/6zeHM5CV0CjcS0K8ouWE4N', 'img_url': 'https://i.scdn.co/image/ab67616d0000b27313f982aa5c43146c3d2c1964', 'name': \"Harry Potter and The Sorcerer's Stone Original Motion Picture Soundtrack\", 'release_date': '2001-10-30', 'artists': 'John Williams'}\n",
      "{'album_urls': 'https://open.spotify.com/album/2xXblCIb5G6ji70efT7THx', 'img_url': 'https://i.scdn.co/image/ab67616d0000b273be91395199c3a1295f960a65', 'name': 'Harry Potter and the Half-Blood Prince (Original Motion Picture Soundtrack)', 'release_date': '2009-07-14', 'artists': 'Nicholas Hooper'}\n",
      "{'album_urls': 'https://open.spotify.com/album/1tkE7mAFHRLwrySs5mQzeN', 'img_url': 'https://i.scdn.co/image/ab67616d0000b2731bf5a1ead61ce539ac4f88f3', 'name': 'Harry Potter and the Deathly Hallows, Pt. 2 (Original Motion Picture Soundtrack)', 'release_date': '2011-07-12', 'artists': 'Alexandre Desplat'}\n",
      "\n",
      "Music Recommendations for genre 'pop':\n",
      "{'album_urls': 'https://open.spotify.com/album/0p0FGxiCrl3afABenvtWbQ', 'img_url': 'https://i.scdn.co/image/ab67616d0000b273f53930e3203b69952b4c5920', 'name': 'Popular', 'release_date': '2024-01-26', 'artists': 'The Weeknd, Madonna'}\n",
      "{'album_urls': 'https://open.spotify.com/album/3TBG2xEwB7o39V7h7tBQvv', 'img_url': 'https://i.scdn.co/image/ab67616d0000b2733e05bf3a029f03db53a84067', 'name': 'Popipo De Funk', 'release_date': '2024-11-29', 'artists': 'GolzX, PLAYA SSK'}\n",
      "\n",
      "----------------------------------------\n",
      "\n",
      "\n",
      "Testing User Class...\n",
      "\n",
      "Default Preferences:\n",
      "Movie Name: Harry Potter\n",
      "User Preferences:\n",
      "num_results: 3\n",
      "music_version: clean\n",
      "movie_genre: None\n",
      "music_genre: None\n",
      "is_recom: {'recom_type': 'Both', 'num_recom': 3, 'genre': None}\n",
      "\n",
      "Updating preferences...\n"
     ]
    },
    {
     "name": "stdin",
     "output_type": "stream",
     "text": [
      "Enter the movie name (default: Harry Potter):  \n",
      "Enter number of results to display (default: 3):  \n",
      "Enter music version (clean/explicit, default: clean):  \n",
      "Enter recommendation type (Music/Movie/Both, default: Both):  \n",
      "Enter number of recommendations (default: 3):  \n",
      "Enter genre for recommendations (e.g., Pop, Rock, default: None):  \n"
     ]
    },
    {
     "name": "stdout",
     "output_type": "stream",
     "text": [
      "User preferences updated successfully!\n",
      "\n",
      "Updated Preferences:\n",
      "Movie Name: Harry Potter\n",
      "User Preferences:\n",
      "num_results: 3\n",
      "music_version: clean\n",
      "movie_genre: None\n",
      "music_genre: None\n",
      "is_recom: {'recom_type': 'Both', 'num_recom': 3, 'genre': None}\n"
     ]
    }
   ],
   "source": [
    "from music_user.music import Music\n",
    "from music_user.user import User\n",
    "\n",
    "def test_music_class():\n",
    "    \"\"\"\n",
    "    Simple test for the Music class.\n",
    "    \"\"\"\n",
    "    try:\n",
    "        print(\"Testing Music Class...\")\n",
    "\n",
    "        # Create an instance of the Music class\n",
    "        music = Music()\n",
    "\n",
    "        # Test music_search\n",
    "        movie_name = \"Harry Potter\"\n",
    "        search_results = music.music_search(movie_name, {\"num_results\": 3})\n",
    "        print(f\"\\nSearch Results for '{movie_name}':\")\n",
    "        for result in search_results:\n",
    "            print(result)\n",
    "\n",
    "        # Test music_recom\n",
    "        recommendations = music.music_recom({\"genre\": \"pop\", \"num_recom\": 2})\n",
    "        print(\"\\nMusic Recommendations for genre 'pop':\")\n",
    "        for rec in recommendations:\n",
    "            print(rec)\n",
    "\n",
    "    except Exception as e:\n",
    "        print(f\"Error during Music Class test: {e}\")\n",
    "\n",
    "\n",
    "def test_user_class():\n",
    "    \"\"\"\n",
    "    Simple test for the User class.\n",
    "    \"\"\"\n",
    "    try:\n",
    "        print(\"\\nTesting User Class...\")\n",
    "\n",
    "        # Create an instance of the User class\n",
    "        user = User()\n",
    "\n",
    "        # Display default preferences\n",
    "        print(\"\\nDefault Preferences:\")\n",
    "        user.display_preference()\n",
    "\n",
    "        # Simulate user input\n",
    "        print(\"\\nUpdating preferences...\")\n",
    "        user.user_input()\n",
    "        print(\"\\nUpdated Preferences:\")\n",
    "        user.display_preference()\n",
    "\n",
    "    except Exception as e:\n",
    "        print(f\"Error during User Class test: {e}\")\n",
    "\n",
    "\n",
    "if __name__ == \"__main__\":\n",
    "    # Run tests for both classes\n",
    "    test_music_class()\n",
    "    print(\"\\n\" + \"-\" * 40 + \"\\n\")\n",
    "    test_user_class()"
   ]
  },
  {
   "cell_type": "code",
   "execution_count": 3,
   "id": "211527d1-4366-4f35-9917-150311511fb0",
   "metadata": {},
   "outputs": [
    {
     "name": "stdout",
     "output_type": "stream",
     "text": [
      "{'albums': {'href': 'https://api.spotify.com/v1/search?offset=0&limit=10&query=harry%20potter&type=album', 'limit': 10, 'next': 'https://api.spotify.com/v1/search?offset=10&limit=10&query=harry%20potter&type=album', 'offset': 0, 'previous': None, 'total': 891, 'items': [{'album_type': 'compilation', 'total_tracks': 19, 'available_markets': ['AR', 'AU', 'AT', 'BE', 'BO', 'BR', 'BG', 'CA', 'CL', 'CO', 'CR', 'CY', 'CZ', 'DK', 'DO', 'DE', 'EC', 'EE', 'SV', 'FI', 'FR', 'GR', 'GT', 'HN', 'HK', 'HU', 'IS', 'IE', 'IT', 'LV', 'LT', 'LU', 'MY', 'MT', 'MX', 'NL', 'NZ', 'NI', 'NO', 'PA', 'PY', 'PE', 'PH', 'PL', 'PT', 'SG', 'SK', 'ES', 'SE', 'CH', 'TW', 'TR', 'UY', 'US', 'GB', 'AD', 'LI', 'MC', 'ID', 'JP', 'TH', 'VN', 'RO', 'IL', 'ZA', 'SA', 'AE', 'BH', 'QA', 'OM', 'KW', 'EG', 'MA', 'DZ', 'TN', 'LB', 'JO', 'PS', 'IN', 'BY', 'KZ', 'MD', 'UA', 'AL', 'BA', 'HR', 'ME', 'MK', 'RS', 'SI', 'KR', 'BD', 'PK', 'LK', 'GH', 'KE', 'NG', 'TZ', 'UG', 'AG', 'AM', 'BS', 'BB', 'BZ', 'BT', 'BW', 'BF', 'CV', 'CW', 'DM', 'FJ', 'GM', 'GE', 'GD', 'GW', 'GY', 'HT', 'JM', 'KI', 'LS', 'LR', 'MW', 'MV', 'ML', 'MH', 'FM', 'NA', 'NR', 'NE', 'PW', 'PG', 'WS', 'SM', 'ST', 'SN', 'SC', 'SL', 'SB', 'KN', 'LC', 'VC', 'SR', 'TL', 'TO', 'TT', 'TV', 'VU', 'AZ', 'BN', 'BI', 'KH', 'CM', 'TD', 'KM', 'GQ', 'SZ', 'GA', 'GN', 'KG', 'LA', 'MO', 'MR', 'MN', 'NP', 'RW', 'TG', 'UZ', 'ZW', 'BJ', 'MG', 'MU', 'MZ', 'AO', 'CI', 'DJ', 'ZM', 'CD', 'CG', 'IQ', 'LY', 'TJ', 'VE', 'ET', 'XK'], 'external_urls': {'spotify': 'https://open.spotify.com/album/6zeHM5CV0CjcS0K8ouWE4N'}, 'href': 'https://api.spotify.com/v1/albums/6zeHM5CV0CjcS0K8ouWE4N', 'id': '6zeHM5CV0CjcS0K8ouWE4N', 'images': [{'height': 640, 'url': 'https://i.scdn.co/image/ab67616d0000b27313f982aa5c43146c3d2c1964', 'width': 640}, {'height': 300, 'url': 'https://i.scdn.co/image/ab67616d00001e0213f982aa5c43146c3d2c1964', 'width': 300}, {'height': 64, 'url': 'https://i.scdn.co/image/ab67616d0000485113f982aa5c43146c3d2c1964', 'width': 64}], 'name': \"Harry Potter and The Sorcerer's Stone Original Motion Picture Soundtrack\", 'release_date': '2001-10-30', 'release_date_precision': 'day', 'type': 'album', 'uri': 'spotify:album:6zeHM5CV0CjcS0K8ouWE4N', 'artists': [{'external_urls': {'spotify': 'https://open.spotify.com/artist/3dRfiJ2650SZu6GbydcHNb'}, 'href': 'https://api.spotify.com/v1/artists/3dRfiJ2650SZu6GbydcHNb', 'id': '3dRfiJ2650SZu6GbydcHNb', 'name': 'John Williams', 'type': 'artist', 'uri': 'spotify:artist:3dRfiJ2650SZu6GbydcHNb'}]}, {'album_type': 'compilation', 'total_tracks': 24, 'available_markets': ['AR', 'AU', 'AT', 'BE', 'BO', 'BR', 'BG', 'CA', 'CL', 'CO', 'CR', 'CY', 'CZ', 'DK', 'DO', 'DE', 'EC', 'EE', 'SV', 'FI', 'FR', 'GR', 'GT', 'HN', 'HK', 'HU', 'IS', 'IE', 'IT', 'LV', 'LT', 'LU', 'MY', 'MT', 'MX', 'NL', 'NZ', 'NI', 'NO', 'PA', 'PY', 'PE', 'PH', 'PL', 'PT', 'SG', 'SK', 'ES', 'SE', 'CH', 'TW', 'TR', 'UY', 'US', 'GB', 'AD', 'LI', 'MC', 'ID', 'JP', 'TH', 'VN', 'RO', 'IL', 'ZA', 'SA', 'AE', 'BH', 'QA', 'OM', 'KW', 'EG', 'MA', 'DZ', 'TN', 'LB', 'JO', 'PS', 'IN', 'BY', 'KZ', 'MD', 'UA', 'AL', 'BA', 'HR', 'ME', 'MK', 'RS', 'SI', 'KR', 'BD', 'PK', 'LK', 'GH', 'KE', 'NG', 'TZ', 'UG', 'AG', 'AM', 'BS', 'BB', 'BZ', 'BT', 'BW', 'BF', 'CV', 'CW', 'DM', 'FJ', 'GM', 'GE', 'GD', 'GW', 'GY', 'HT', 'JM', 'KI', 'LS', 'LR', 'MW', 'MV', 'ML', 'MH', 'FM', 'NA', 'NR', 'NE', 'PW', 'PG', 'WS', 'SM', 'ST', 'SN', 'SC', 'SL', 'SB', 'KN', 'LC', 'VC', 'SR', 'TL', 'TO', 'TT', 'TV', 'VU', 'AZ', 'BN', 'BI', 'KH', 'CM', 'TD', 'KM', 'GQ', 'SZ', 'GA', 'GN', 'KG', 'LA', 'MO', 'MR', 'MN', 'NP', 'RW', 'TG', 'UZ', 'ZW', 'BJ', 'MG', 'MU', 'MZ', 'AO', 'CI', 'DJ', 'ZM', 'CD', 'CG', 'IQ', 'LY', 'TJ', 'VE', 'ET', 'XK'], 'external_urls': {'spotify': 'https://open.spotify.com/album/64gUb1lgmNhAK0IPfVsR6K'}, 'href': 'https://api.spotify.com/v1/albums/64gUb1lgmNhAK0IPfVsR6K', 'id': '64gUb1lgmNhAK0IPfVsR6K', 'images': [{'height': 640, 'url': 'https://i.scdn.co/image/ab67616d0000b273bb71e7f0768b0b71d93adb8e', 'width': 640}, {'height': 300, 'url': 'https://i.scdn.co/image/ab67616d00001e02bb71e7f0768b0b71d93adb8e', 'width': 300}, {'height': 64, 'url': 'https://i.scdn.co/image/ab67616d00004851bb71e7f0768b0b71d93adb8e', 'width': 64}], 'name': 'Harry Potter And The Goblet Of Fire (Original Motion Picture Soundtrack)', 'release_date': '2005-11-09', 'release_date_precision': 'day', 'type': 'album', 'uri': 'spotify:album:64gUb1lgmNhAK0IPfVsR6K', 'artists': [{'external_urls': {'spotify': 'https://open.spotify.com/artist/0LyfQWJT6nXafLPZqxe9Of'}, 'href': 'https://api.spotify.com/v1/artists/0LyfQWJT6nXafLPZqxe9Of', 'id': '0LyfQWJT6nXafLPZqxe9Of', 'name': 'Various Artists', 'type': 'artist', 'uri': 'spotify:artist:0LyfQWJT6nXafLPZqxe9Of'}]}, {'album_type': 'album', 'total_tracks': 28, 'available_markets': ['AR', 'AU', 'AT', 'BE', 'BO', 'BR', 'BG', 'CA', 'CL', 'CO', 'CR', 'CY', 'CZ', 'DK', 'DO', 'DE', 'EC', 'EE', 'SV', 'FI', 'FR', 'GR', 'GT', 'HN', 'HK', 'HU', 'IS', 'IE', 'IT', 'LV', 'LT', 'LU', 'MY', 'MT', 'MX', 'NL', 'NZ', 'NI', 'NO', 'PA', 'PY', 'PE', 'PH', 'PL', 'PT', 'SG', 'SK', 'ES', 'SE', 'CH', 'TW', 'TR', 'UY', 'US', 'GB', 'AD', 'LI', 'MC', 'ID', 'JP', 'TH', 'VN', 'RO', 'IL', 'ZA', 'SA', 'AE', 'BH', 'QA', 'OM', 'KW', 'EG', 'MA', 'DZ', 'TN', 'LB', 'JO', 'PS', 'IN', 'BY', 'KZ', 'MD', 'UA', 'AL', 'BA', 'HR', 'ME', 'MK', 'RS', 'SI', 'KR', 'BD', 'PK', 'LK', 'GH', 'KE', 'NG', 'TZ', 'UG', 'AG', 'AM', 'BS', 'BB', 'BZ', 'BT', 'BW', 'BF', 'CV', 'CW', 'DM', 'FJ', 'GM', 'GE', 'GD', 'GW', 'GY', 'HT', 'JM', 'KI', 'LS', 'LR', 'MW', 'MV', 'ML', 'MH', 'FM', 'NA', 'NR', 'NE', 'PW', 'PG', 'PR', 'WS', 'SM', 'ST', 'SN', 'SC', 'SL', 'SB', 'KN', 'LC', 'VC', 'SR', 'TL', 'TO', 'TT', 'TV', 'VU', 'AZ', 'BN', 'BI', 'KH', 'CM', 'TD', 'KM', 'GQ', 'SZ', 'GA', 'GN', 'KG', 'LA', 'MO', 'MR', 'MN', 'NP', 'RW', 'TG', 'UZ', 'ZW', 'BJ', 'MG', 'MU', 'MZ', 'AO', 'CI', 'DJ', 'ZM', 'CD', 'CG', 'IQ', 'LY', 'TJ', 'VE', 'ET', 'XK'], 'external_urls': {'spotify': 'https://open.spotify.com/album/2xXblCIb5G6ji70efT7THx'}, 'href': 'https://api.spotify.com/v1/albums/2xXblCIb5G6ji70efT7THx', 'id': '2xXblCIb5G6ji70efT7THx', 'images': [{'height': 640, 'url': 'https://i.scdn.co/image/ab67616d0000b273be91395199c3a1295f960a65', 'width': 640}, {'height': 300, 'url': 'https://i.scdn.co/image/ab67616d00001e02be91395199c3a1295f960a65', 'width': 300}, {'height': 64, 'url': 'https://i.scdn.co/image/ab67616d00004851be91395199c3a1295f960a65', 'width': 64}], 'name': 'Harry Potter and the Half-Blood Prince (Original Motion Picture Soundtrack)', 'release_date': '2009-07-14', 'release_date_precision': 'day', 'type': 'album', 'uri': 'spotify:album:2xXblCIb5G6ji70efT7THx', 'artists': [{'external_urls': {'spotify': 'https://open.spotify.com/artist/6S9bLkEZSVIcY18RNcNG50'}, 'href': 'https://api.spotify.com/v1/artists/6S9bLkEZSVIcY18RNcNG50', 'id': '6S9bLkEZSVIcY18RNcNG50', 'name': 'Nicholas Hooper', 'type': 'artist', 'uri': 'spotify:artist:6S9bLkEZSVIcY18RNcNG50'}]}, {'album_type': 'compilation', 'total_tracks': 21, 'available_markets': ['AR', 'AU', 'AT', 'BE', 'BO', 'BR', 'BG', 'CA', 'CL', 'CO', 'CR', 'CY', 'CZ', 'DK', 'DO', 'DE', 'EC', 'EE', 'SV', 'FI', 'FR', 'GR', 'GT', 'HN', 'HK', 'HU', 'IS', 'IE', 'IT', 'LV', 'LT', 'LU', 'MY', 'MT', 'MX', 'NL', 'NZ', 'NI', 'NO', 'PA', 'PY', 'PE', 'PH', 'PL', 'PT', 'SG', 'SK', 'ES', 'SE', 'CH', 'TW', 'TR', 'UY', 'US', 'GB', 'AD', 'LI', 'MC', 'ID', 'JP', 'TH', 'VN', 'RO', 'IL', 'ZA', 'SA', 'AE', 'BH', 'QA', 'OM', 'KW', 'EG', 'LB', 'JO', 'PS', 'IN', 'BY', 'KZ', 'MD', 'UA', 'AL', 'BA', 'HR', 'ME', 'MK', 'RS', 'SI', 'KR', 'BD', 'PK', 'LK', 'GH', 'KE', 'NG', 'UG', 'AG', 'AM', 'BS', 'BB', 'BZ', 'BT', 'BW', 'BF', 'CV', 'CW', 'DM', 'FJ', 'GM', 'GE', 'GD', 'GW', 'GY', 'HT', 'JM', 'KI', 'MV', 'MH', 'FM', 'NA', 'NR', 'NE', 'PW', 'PG', 'WS', 'SM', 'SB', 'KN', 'LC', 'VC', 'SR', 'TL', 'TO', 'TT', 'TV', 'VU', 'AZ', 'BN', 'KH', 'TD', 'SZ', 'KG', 'LA', 'MO', 'MN', 'NP', 'UZ', 'ZW', 'MU', 'MZ', 'IQ', 'TJ', 'VE', 'XK'], 'external_urls': {'spotify': 'https://open.spotify.com/album/7DDls7RWrCLvZgTVCJgfcq'}, 'href': 'https://api.spotify.com/v1/albums/7DDls7RWrCLvZgTVCJgfcq', 'id': '7DDls7RWrCLvZgTVCJgfcq', 'images': [{'height': 640, 'url': 'https://i.scdn.co/image/ab67616d0000b273585f19adb14e7c92d9ec1b41', 'width': 640}, {'height': 300, 'url': 'https://i.scdn.co/image/ab67616d00001e02585f19adb14e7c92d9ec1b41', 'width': 300}, {'height': 64, 'url': 'https://i.scdn.co/image/ab67616d00004851585f19adb14e7c92d9ec1b41', 'width': 64}], 'name': 'Harry Potter and the Prisoner of Azkaban / Original Motion Picture Soundtrack', 'release_date': '2004-05-25', 'release_date_precision': 'day', 'type': 'album', 'uri': 'spotify:album:7DDls7RWrCLvZgTVCJgfcq', 'artists': [{'external_urls': {'spotify': 'https://open.spotify.com/artist/3dRfiJ2650SZu6GbydcHNb'}, 'href': 'https://api.spotify.com/v1/artists/3dRfiJ2650SZu6GbydcHNb', 'id': '3dRfiJ2650SZu6GbydcHNb', 'name': 'John Williams', 'type': 'artist', 'uri': 'spotify:artist:3dRfiJ2650SZu6GbydcHNb'}]}, {'album_type': 'album', 'total_tracks': 25, 'available_markets': ['AR', 'AU', 'AT', 'BE', 'BO', 'BR', 'BG', 'CA', 'CL', 'CO', 'CR', 'CY', 'CZ', 'DK', 'DO', 'DE', 'EC', 'EE', 'SV', 'FI', 'FR', 'GR', 'GT', 'HN', 'HK', 'HU', 'IS', 'IE', 'IT', 'LV', 'LT', 'LU', 'MY', 'MT', 'MX', 'NL', 'NZ', 'NI', 'NO', 'PA', 'PY', 'PE', 'PH', 'PL', 'PT', 'SG', 'SK', 'ES', 'SE', 'CH', 'TW', 'TR', 'UY', 'US', 'GB', 'AD', 'LI', 'MC', 'ID', 'JP', 'TH', 'VN', 'RO', 'IL', 'ZA', 'SA', 'AE', 'BH', 'QA', 'OM', 'KW', 'EG', 'MA', 'DZ', 'TN', 'LB', 'JO', 'PS', 'IN', 'BY', 'KZ', 'MD', 'UA', 'AL', 'BA', 'HR', 'ME', 'MK', 'RS', 'SI', 'KR', 'BD', 'PK', 'LK', 'GH', 'KE', 'NG', 'TZ', 'UG', 'AG', 'AM', 'BS', 'BB', 'BZ', 'BT', 'BW', 'BF', 'CV', 'CW', 'DM', 'FJ', 'GM', 'GE', 'GD', 'GW', 'GY', 'HT', 'JM', 'KI', 'LS', 'LR', 'MW', 'MV', 'ML', 'MH', 'FM', 'NA', 'NR', 'NE', 'PW', 'PG', 'PR', 'WS', 'SM', 'ST', 'SN', 'SC', 'SL', 'SB', 'KN', 'LC', 'VC', 'SR', 'TL', 'TO', 'TT', 'TV', 'VU', 'AZ', 'BN', 'BI', 'KH', 'CM', 'TD', 'KM', 'GQ', 'SZ', 'GA', 'GN', 'KG', 'LA', 'MO', 'MR', 'MN', 'NP', 'RW', 'TG', 'UZ', 'ZW', 'BJ', 'MG', 'MU', 'MZ', 'AO', 'CI', 'DJ', 'ZM', 'CD', 'CG', 'IQ', 'LY', 'TJ', 'VE', 'ET', 'XK'], 'external_urls': {'spotify': 'https://open.spotify.com/album/1tkE7mAFHRLwrySs5mQzeN'}, 'href': 'https://api.spotify.com/v1/albums/1tkE7mAFHRLwrySs5mQzeN', 'id': '1tkE7mAFHRLwrySs5mQzeN', 'images': [{'height': 640, 'url': 'https://i.scdn.co/image/ab67616d0000b2731bf5a1ead61ce539ac4f88f3', 'width': 640}, {'height': 300, 'url': 'https://i.scdn.co/image/ab67616d00001e021bf5a1ead61ce539ac4f88f3', 'width': 300}, {'height': 64, 'url': 'https://i.scdn.co/image/ab67616d000048511bf5a1ead61ce539ac4f88f3', 'width': 64}], 'name': 'Harry Potter and the Deathly Hallows, Pt. 2 (Original Motion Picture Soundtrack)', 'release_date': '2011-07-12', 'release_date_precision': 'day', 'type': 'album', 'uri': 'spotify:album:1tkE7mAFHRLwrySs5mQzeN', 'artists': [{'external_urls': {'spotify': 'https://open.spotify.com/artist/71jzN72g8qWMCMkWC5p1Z0'}, 'href': 'https://api.spotify.com/v1/artists/71jzN72g8qWMCMkWC5p1Z0', 'id': '71jzN72g8qWMCMkWC5p1Z0', 'name': 'Alexandre Desplat', 'type': 'artist', 'uri': 'spotify:artist:71jzN72g8qWMCMkWC5p1Z0'}]}, {'album_type': 'album', 'total_tracks': 13, 'available_markets': ['AR', 'AU', 'AT', 'BE', 'BO', 'BR', 'BG', 'CA', 'CL', 'CO', 'CR', 'CY', 'CZ', 'DK', 'DO', 'DE', 'EC', 'EE', 'SV', 'FI', 'FR', 'GR', 'GT', 'HN', 'HK', 'HU', 'IS', 'IE', 'IT', 'LV', 'LT', 'LU', 'MY', 'MT', 'MX', 'NL', 'NZ', 'NI', 'NO', 'PA', 'PY', 'PE', 'PH', 'PL', 'PT', 'SG', 'SK', 'ES', 'SE', 'CH', 'TW', 'TR', 'UY', 'US', 'GB', 'AD', 'LI', 'MC', 'ID', 'JP', 'TH', 'VN', 'RO', 'IL', 'ZA', 'SA', 'AE', 'BH', 'QA', 'OM', 'KW', 'EG', 'MA', 'DZ', 'TN', 'LB', 'JO', 'PS', 'IN', 'BY', 'KZ', 'MD', 'UA', 'AL', 'BA', 'HR', 'ME', 'MK', 'RS', 'SI', 'KR', 'BD', 'PK', 'LK', 'GH', 'KE', 'NG', 'TZ', 'UG', 'AG', 'AM', 'BS', 'BB', 'BZ', 'BT', 'BW', 'BF', 'CV', 'CW', 'DM', 'FJ', 'GM', 'GE', 'GD', 'GW', 'GY', 'HT', 'JM', 'KI', 'LS', 'LR', 'MW', 'MV', 'ML', 'MH', 'FM', 'NA', 'NR', 'NE', 'PW', 'PG', 'PR', 'WS', 'SM', 'ST', 'SN', 'SC', 'SL', 'SB', 'KN', 'LC', 'VC', 'SR', 'TL', 'TO', 'TT', 'TV', 'VU', 'AZ', 'BN', 'BI', 'KH', 'CM', 'TD', 'KM', 'GQ', 'SZ', 'GA', 'GN', 'KG', 'LA', 'MO', 'MR', 'MN', 'NP', 'RW', 'TG', 'UZ', 'ZW', 'BJ', 'MG', 'MU', 'MZ', 'AO', 'CI', 'DJ', 'ZM', 'CD', 'CG', 'IQ', 'LY', 'TJ', 'VE', 'ET', 'XK'], 'external_urls': {'spotify': 'https://open.spotify.com/album/5r36AJ6VOJtp00oxSkBZ5h'}, 'href': 'https://api.spotify.com/v1/albums/5r36AJ6VOJtp00oxSkBZ5h', 'id': '5r36AJ6VOJtp00oxSkBZ5h', 'images': [{'height': 640, 'url': 'https://i.scdn.co/image/ab67616d0000b2732e8ed79e177ff6011076f5f0', 'width': 640}, {'height': 300, 'url': 'https://i.scdn.co/image/ab67616d00001e022e8ed79e177ff6011076f5f0', 'width': 300}, {'height': 64, 'url': 'https://i.scdn.co/image/ab67616d000048512e8ed79e177ff6011076f5f0', 'width': 64}], 'name': \"Harry's House\", 'release_date': '2022-05-20', 'release_date_precision': 'day', 'type': 'album', 'uri': 'spotify:album:5r36AJ6VOJtp00oxSkBZ5h', 'artists': [{'external_urls': {'spotify': 'https://open.spotify.com/artist/6KImCVD70vtIoJWnq6nGn3'}, 'href': 'https://api.spotify.com/v1/artists/6KImCVD70vtIoJWnq6nGn3', 'id': '6KImCVD70vtIoJWnq6nGn3', 'name': 'Harry Styles', 'type': 'artist', 'uri': 'spotify:artist:6KImCVD70vtIoJWnq6nGn3'}]}, {'album_type': 'compilation', 'total_tracks': 20, 'available_markets': ['AR', 'AU', 'AT', 'BE', 'BO', 'BR', 'BG', 'CA', 'CL', 'CO', 'CR', 'CY', 'CZ', 'DK', 'DO', 'DE', 'EC', 'EE', 'SV', 'FI', 'FR', 'GR', 'GT', 'HN', 'HK', 'HU', 'IS', 'IE', 'IT', 'LV', 'LT', 'LU', 'MY', 'MT', 'MX', 'NL', 'NZ', 'NI', 'NO', 'PA', 'PY', 'PE', 'PH', 'PL', 'PT', 'SG', 'SK', 'ES', 'SE', 'CH', 'TW', 'TR', 'UY', 'US', 'GB', 'AD', 'LI', 'MC', 'ID', 'JP', 'TH', 'VN', 'RO', 'IL', 'ZA', 'SA', 'AE', 'BH', 'QA', 'OM', 'KW', 'EG', 'LB', 'JO', 'PS', 'IN', 'BY', 'KZ', 'MD', 'UA', 'AL', 'BA', 'HR', 'ME', 'MK', 'RS', 'SI', 'KR', 'BD', 'PK', 'LK', 'GH', 'KE', 'NG', 'UG', 'AG', 'AM', 'BS', 'BB', 'BZ', 'BT', 'BW', 'BF', 'CV', 'CW', 'DM', 'FJ', 'GM', 'GE', 'GD', 'GW', 'GY', 'HT', 'JM', 'KI', 'MV', 'MH', 'FM', 'NA', 'NR', 'NE', 'PW', 'PG', 'WS', 'SM', 'SB', 'KN', 'LC', 'VC', 'SR', 'TL', 'TO', 'TT', 'TV', 'VU', 'AZ', 'BN', 'KH', 'TD', 'SZ', 'KG', 'LA', 'MO', 'MN', 'NP', 'UZ', 'ZW', 'MU', 'MZ', 'IQ', 'TJ', 'VE', 'XK'], 'external_urls': {'spotify': 'https://open.spotify.com/album/5nzzU118YRlXdhjRMb3fq0'}, 'href': 'https://api.spotify.com/v1/albums/5nzzU118YRlXdhjRMb3fq0', 'id': '5nzzU118YRlXdhjRMb3fq0', 'images': [{'height': 640, 'url': 'https://i.scdn.co/image/ab67616d0000b273a8ef11af00fcd7db4e65ccea', 'width': 640}, {'height': 300, 'url': 'https://i.scdn.co/image/ab67616d00001e02a8ef11af00fcd7db4e65ccea', 'width': 300}, {'height': 64, 'url': 'https://i.scdn.co/image/ab67616d00004851a8ef11af00fcd7db4e65ccea', 'width': 64}], 'name': 'Harry Potter and The Chamber of Secrets/ Original Motion Picture Soundtrack', 'release_date': '2002-11-11', 'release_date_precision': 'day', 'type': 'album', 'uri': 'spotify:album:5nzzU118YRlXdhjRMb3fq0', 'artists': [{'external_urls': {'spotify': 'https://open.spotify.com/artist/3dRfiJ2650SZu6GbydcHNb'}, 'href': 'https://api.spotify.com/v1/artists/3dRfiJ2650SZu6GbydcHNb', 'id': '3dRfiJ2650SZu6GbydcHNb', 'name': 'John Williams', 'type': 'artist', 'uri': 'spotify:artist:3dRfiJ2650SZu6GbydcHNb'}]}, {'album_type': 'album', 'total_tracks': 29, 'available_markets': ['AR', 'AU', 'AT', 'BE', 'BO', 'BR', 'BG', 'CA', 'CL', 'CO', 'CR', 'CY', 'CZ', 'DK', 'DO', 'DE', 'EC', 'EE', 'SV', 'FI', 'FR', 'GR', 'GT', 'HN', 'HK', 'HU', 'IS', 'IE', 'IT', 'LV', 'LT', 'LU', 'MY', 'MT', 'MX', 'NL', 'NZ', 'NI', 'NO', 'PA', 'PY', 'PE', 'PH', 'PL', 'PT', 'SG', 'SK', 'ES', 'SE', 'CH', 'TW', 'TR', 'UY', 'US', 'GB', 'AD', 'LI', 'MC', 'ID', 'JP', 'TH', 'VN', 'RO', 'IL', 'ZA', 'SA', 'AE', 'BH', 'QA', 'OM', 'KW', 'EG', 'MA', 'DZ', 'TN', 'LB', 'JO', 'PS', 'IN', 'BY', 'KZ', 'MD', 'UA', 'AL', 'BA', 'HR', 'ME', 'MK', 'RS', 'SI', 'KR', 'BD', 'PK', 'LK', 'GH', 'KE', 'NG', 'TZ', 'UG', 'AG', 'AM', 'BS', 'BB', 'BZ', 'BT', 'BW', 'BF', 'CV', 'CW', 'DM', 'FJ', 'GM', 'GE', 'GD', 'GW', 'GY', 'HT', 'JM', 'KI', 'LS', 'LR', 'MW', 'MV', 'ML', 'MH', 'FM', 'NA', 'NR', 'NE', 'PW', 'PG', 'PR', 'WS', 'SM', 'ST', 'SN', 'SC', 'SL', 'SB', 'KN', 'LC', 'VC', 'SR', 'TL', 'TO', 'TT', 'TV', 'VU', 'AZ', 'BN', 'BI', 'KH', 'CM', 'TD', 'KM', 'GQ', 'SZ', 'GA', 'GN', 'KG', 'LA', 'MO', 'MR', 'MN', 'NP', 'RW', 'TG', 'UZ', 'ZW', 'BJ', 'MG', 'MU', 'MZ', 'AO', 'CI', 'DJ', 'ZM', 'CD', 'CG', 'IQ', 'LY', 'TJ', 'VE', 'ET', 'XK'], 'external_urls': {'spotify': 'https://open.spotify.com/album/6s9twOs9wMKOEluU5dkBE0'}, 'href': 'https://api.spotify.com/v1/albums/6s9twOs9wMKOEluU5dkBE0', 'id': '6s9twOs9wMKOEluU5dkBE0', 'images': [{'height': 640, 'url': 'https://i.scdn.co/image/ab67616d0000b27375d3ad6e450ab0d769ab5d04', 'width': 640}, {'height': 300, 'url': 'https://i.scdn.co/image/ab67616d00001e0275d3ad6e450ab0d769ab5d04', 'width': 300}, {'height': 64, 'url': 'https://i.scdn.co/image/ab67616d0000485175d3ad6e450ab0d769ab5d04', 'width': 64}], 'name': 'Harry Potter and the Deathly Hallows, Pt. 1 (Original Motion Picture Soundtrack)', 'release_date': '2010-11-23', 'release_date_precision': 'day', 'type': 'album', 'uri': 'spotify:album:6s9twOs9wMKOEluU5dkBE0', 'artists': [{'external_urls': {'spotify': 'https://open.spotify.com/artist/71jzN72g8qWMCMkWC5p1Z0'}, 'href': 'https://api.spotify.com/v1/artists/71jzN72g8qWMCMkWC5p1Z0', 'id': '71jzN72g8qWMCMkWC5p1Z0', 'name': 'Alexandre Desplat', 'type': 'artist', 'uri': 'spotify:artist:71jzN72g8qWMCMkWC5p1Z0'}]}, {'album_type': 'single', 'total_tracks': 1, 'available_markets': ['AR', 'AU', 'AT', 'BE', 'BO', 'BR', 'BG', 'CA', 'CL', 'CO', 'CR', 'CY', 'CZ', 'DK', 'DO', 'DE', 'EC', 'EE', 'SV', 'FI', 'FR', 'GR', 'GT', 'HN', 'HK', 'HU', 'IS', 'IE', 'IT', 'LV', 'LT', 'LU', 'MY', 'MT', 'MX', 'NL', 'NZ', 'NI', 'NO', 'PA', 'PY', 'PE', 'PH', 'PL', 'PT', 'SG', 'SK', 'ES', 'SE', 'CH', 'TW', 'TR', 'UY', 'US', 'GB', 'AD', 'LI', 'MC', 'ID', 'JP', 'TH', 'VN', 'RO', 'IL', 'ZA', 'SA', 'AE', 'BH', 'QA', 'OM', 'KW', 'EG', 'MA', 'DZ', 'TN', 'LB', 'JO', 'PS', 'IN', 'BY', 'KZ', 'MD', 'UA', 'AL', 'BA', 'HR', 'ME', 'MK', 'RS', 'SI', 'KR', 'BD', 'PK', 'LK', 'GH', 'KE', 'NG', 'TZ', 'UG', 'AG', 'AM', 'BS', 'BB', 'BZ', 'BT', 'BW', 'BF', 'CV', 'CW', 'DM', 'FJ', 'GM', 'GE', 'GD', 'GW', 'GY', 'HT', 'JM', 'KI', 'LS', 'LR', 'MW', 'MV', 'ML', 'MH', 'FM', 'NA', 'NR', 'NE', 'PW', 'PG', 'PR', 'WS', 'SM', 'ST', 'SN', 'SC', 'SL', 'SB', 'KN', 'LC', 'VC', 'SR', 'TL', 'TO', 'TT', 'TV', 'VU', 'AZ', 'BN', 'BI', 'KH', 'CM', 'TD', 'KM', 'GQ', 'SZ', 'GA', 'GN', 'KG', 'LA', 'MO', 'MR', 'MN', 'NP', 'RW', 'TG', 'UZ', 'ZW', 'BJ', 'MG', 'MU', 'MZ', 'AO', 'CI', 'DJ', 'ZM', 'CD', 'CG', 'IQ', 'LY', 'TJ', 'VE', 'ET', 'XK'], 'external_urls': {'spotify': 'https://open.spotify.com/album/4WeCuKwcEKzp0TkuEZPzGl'}, 'href': 'https://api.spotify.com/v1/albums/4WeCuKwcEKzp0TkuEZPzGl', 'id': '4WeCuKwcEKzp0TkuEZPzGl', 'images': [{'height': 640, 'url': 'https://i.scdn.co/image/ab67616d0000b27380286c70641992e66bde1c8a', 'width': 640}, {'height': 300, 'url': 'https://i.scdn.co/image/ab67616d00001e0280286c70641992e66bde1c8a', 'width': 300}, {'height': 64, 'url': 'https://i.scdn.co/image/ab67616d0000485180286c70641992e66bde1c8a', 'width': 64}], 'name': 'Harry Potter (Trap Remix)', 'release_date': '2018-10-03', 'release_date_precision': 'day', 'type': 'album', 'uri': 'spotify:album:4WeCuKwcEKzp0TkuEZPzGl', 'artists': [{'external_urls': {'spotify': 'https://open.spotify.com/artist/5mJT67kG5MKy7byzJWMN7c'}, 'href': 'https://api.spotify.com/v1/artists/5mJT67kG5MKy7byzJWMN7c', 'id': '5mJT67kG5MKy7byzJWMN7c', 'name': 'Trap Remix Guys', 'type': 'artist', 'uri': 'spotify:artist:5mJT67kG5MKy7byzJWMN7c'}, {'external_urls': {'spotify': 'https://open.spotify.com/artist/57hx1phIu1MxM82nOla1au'}, 'href': 'https://api.spotify.com/v1/artists/57hx1phIu1MxM82nOla1au', 'id': '57hx1phIu1MxM82nOla1au', 'name': 'Trap Remix Guy', 'type': 'artist', 'uri': 'spotify:artist:57hx1phIu1MxM82nOla1au'}]}, {'album_type': 'compilation', 'total_tracks': 18, 'available_markets': ['AR', 'AU', 'AT', 'BE', 'BO', 'BR', 'BG', 'CA', 'CL', 'CO', 'CR', 'CY', 'CZ', 'DK', 'DO', 'DE', 'EC', 'EE', 'SV', 'FI', 'FR', 'GR', 'GT', 'HN', 'HK', 'HU', 'IS', 'IE', 'IT', 'LV', 'LT', 'LU', 'MY', 'MT', 'MX', 'NL', 'NZ', 'NI', 'NO', 'PA', 'PY', 'PE', 'PH', 'PL', 'PT', 'SG', 'SK', 'ES', 'SE', 'CH', 'TW', 'TR', 'UY', 'US', 'GB', 'AD', 'LI', 'MC', 'ID', 'JP', 'TH', 'VN', 'RO', 'IL', 'ZA', 'SA', 'AE', 'BH', 'QA', 'OM', 'KW', 'EG', 'MA', 'DZ', 'TN', 'LB', 'JO', 'PS', 'IN', 'BY', 'KZ', 'MD', 'UA', 'AL', 'BA', 'HR', 'ME', 'MK', 'RS', 'SI', 'KR', 'BD', 'PK', 'LK', 'GH', 'KE', 'NG', 'TZ', 'UG', 'AG', 'AM', 'BS', 'BB', 'BZ', 'BT', 'BW', 'BF', 'CV', 'CW', 'DM', 'FJ', 'GM', 'GE', 'GD', 'GW', 'GY', 'HT', 'JM', 'KI', 'LS', 'LR', 'MW', 'MV', 'ML', 'MH', 'FM', 'NA', 'NR', 'NE', 'PW', 'PG', 'WS', 'SM', 'ST', 'SN', 'SC', 'SL', 'SB', 'KN', 'LC', 'VC', 'SR', 'TL', 'TO', 'TT', 'TV', 'VU', 'AZ', 'BN', 'BI', 'KH', 'CM', 'TD', 'KM', 'GQ', 'SZ', 'GA', 'GN', 'KG', 'LA', 'MO', 'MR', 'MN', 'NP', 'RW', 'TG', 'UZ', 'ZW', 'BJ', 'MG', 'MU', 'MZ', 'AO', 'CI', 'DJ', 'ZM', 'CD', 'CG', 'IQ', 'LY', 'TJ', 'VE', 'ET', 'XK'], 'external_urls': {'spotify': 'https://open.spotify.com/album/5TEFNL3l7ELSJCq8tq4PNy'}, 'href': 'https://api.spotify.com/v1/albums/5TEFNL3l7ELSJCq8tq4PNy', 'id': '5TEFNL3l7ELSJCq8tq4PNy', 'images': [{'height': 640, 'url': 'https://i.scdn.co/image/ab67616d0000b273131830d267848232447ba5d5', 'width': 640}, {'height': 300, 'url': 'https://i.scdn.co/image/ab67616d00001e02131830d267848232447ba5d5', 'width': 300}, {'height': 64, 'url': 'https://i.scdn.co/image/ab67616d00004851131830d267848232447ba5d5', 'width': 64}], 'name': 'Harry Potter And The Order Of The Phoenix (Original Motion Picture Soundtrack)', 'release_date': '2007-07-07', 'release_date_precision': 'day', 'type': 'album', 'uri': 'spotify:album:5TEFNL3l7ELSJCq8tq4PNy', 'artists': [{'external_urls': {'spotify': 'https://open.spotify.com/artist/0LyfQWJT6nXafLPZqxe9Of'}, 'href': 'https://api.spotify.com/v1/artists/0LyfQWJT6nXafLPZqxe9Of', 'id': '0LyfQWJT6nXafLPZqxe9Of', 'name': 'Various Artists', 'type': 'artist', 'uri': 'spotify:artist:0LyfQWJT6nXafLPZqxe9Of'}]}]}}\n"
     ]
    }
   ],
   "source": [
    "import os\n",
    "from spotipy.oauth2 import SpotifyClientCredentials\n",
    "import spotipy\n",
    "\n",
    "os.environ[\"SPOTIPY_CLIENT_ID\"] = \"\"\n",
    "os.environ[\"SPOTIPY_CLIENT_SECRET\"] = \"\"\n",
    "\n",
    "auth_manager = SpotifyClientCredentials()\n",
    "sp = spotipy.Spotify(auth_manager=auth_manager)\n",
    "\n",
    "result = sp.search(\"harry potter\", type='album')\n",
    "print(result)"
   ]
  }
 ],
 "metadata": {
  "kernelspec": {
   "display_name": "Python 3 (ipykernel)",
   "language": "python",
   "name": "python3"
  },
  "language_info": {
   "codemirror_mode": {
    "name": "ipython",
    "version": 3
   },
   "file_extension": ".py",
   "mimetype": "text/x-python",
   "name": "python",
   "nbconvert_exporter": "python",
   "pygments_lexer": "ipython3",
   "version": "3.9.13"
  }
 },
 "nbformat": 4,
 "nbformat_minor": 5
}
