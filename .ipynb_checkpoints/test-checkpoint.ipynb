{
 "cells": [
  {
   "cell_type": "code",
   "execution_count": 1,
   "id": "95766901-8ace-450d-8ef9-77b81091a7d8",
   "metadata": {},
   "outputs": [
    {
     "name": "stdout",
     "output_type": "stream",
     "text": [
      "Testing Music Class...\n",
      "Spotify API connection successful.\n",
      "\n",
      "Search Results for 'Harry Potter':\n",
      "{'track_name': \"Harry's Wondrous World - Extended Version\", 'artist': 'John Williams', 'album': \"Harry Potter and The Sorcerer's Stone Original Motion Picture Soundtrack\", 'release_date': '2001-10-30', 'preview_url': None}\n",
      "{'track_name': 'Prologue', 'artist': 'John Williams', 'album': \"Harry Potter and The Sorcerer's Stone Original Motion Picture Soundtrack\", 'release_date': '2001-10-30', 'preview_url': None}\n",
      "{'track_name': 'Harry in Winter', 'artist': 'Patrick Doyle', 'album': 'Harry Potter And The Goblet Of Fire (Original Motion Picture Soundtrack)', 'release_date': '2005-11-09', 'preview_url': None}\n",
      "Error fetching recommendations: 404 Client Error: Not Found for url: https://api.spotify.com/v1/recommendations?seed_genres=pop&limit=2\n",
      "\n",
      "Music Recommendations for genre 'pop':\n",
      "\n",
      "----------------------------------------\n",
      "\n",
      "\n",
      "Testing User Class...\n",
      "\n",
      "Default Preferences:\n",
      "Movie Name: Harry Potter\n",
      "User Preferences:\n",
      "num_results: 3\n",
      "music_version: clean\n",
      "movie_genre: None\n",
      "music_genre: None\n",
      "is_recom: {'recom_type': 'Both', 'num_recom': 3, 'genre': None}\n",
      "\n",
      "Updating preferences...\n"
     ]
    },
    {
     "name": "stdin",
     "output_type": "stream",
     "text": [
      "Enter the movie name (default: Harry Potter):  \n",
      "Enter number of results to display (default: 3):  \n",
      "Enter music version (clean/explicit, default: clean):  \n",
      "Enter recommendation type (Music/Movie/Both, default: Both):  \n",
      "Enter number of recommendations (default: 3):  \n",
      "Enter genre for recommendations (e.g., Pop, Rock, default: None):  \n"
     ]
    },
    {
     "name": "stdout",
     "output_type": "stream",
     "text": [
      "User preferences updated successfully!\n",
      "\n",
      "Updated Preferences:\n",
      "Movie Name: Harry Potter\n",
      "User Preferences:\n",
      "num_results: 3\n",
      "music_version: clean\n",
      "movie_genre: None\n",
      "music_genre: None\n",
      "is_recom: {'recom_type': 'Both', 'num_recom': 3, 'genre': None}\n"
     ]
    }
   ],
   "source": [
    "from music_user.music import Music\n",
    "from music_user.user import User\n",
    "\n",
    "def test_music_class():\n",
    "    \"\"\"\n",
    "    Simple test for the Music class.\n",
    "    \"\"\"\n",
    "    try:\n",
    "        print(\"Testing Music Class...\")\n",
    "\n",
    "        # Create an instance of the Music class\n",
    "        music = Music()\n",
    "\n",
    "        # Test music_search\n",
    "        movie_name = \"Harry Potter\"\n",
    "        search_results = music.music_search(movie_name, {\"num_results\": 3})\n",
    "        print(f\"\\nSearch Results for '{movie_name}':\")\n",
    "        for result in search_results:\n",
    "            print(result)\n",
    "\n",
    "        # Test music_recom\n",
    "        recommendations = music.music_recom({\"genre\": \"pop\", \"num_recom\": 2})\n",
    "        print(\"\\nMusic Recommendations for genre 'pop':\")\n",
    "        for rec in recommendations:\n",
    "            print(rec)\n",
    "\n",
    "    except Exception as e:\n",
    "        print(f\"Error during Music Class test: {e}\")\n",
    "\n",
    "\n",
    "def test_user_class():\n",
    "    \"\"\"\n",
    "    Simple test for the User class.\n",
    "    \"\"\"\n",
    "    try:\n",
    "        print(\"\\nTesting User Class...\")\n",
    "\n",
    "        # Create an instance of the User class\n",
    "        user = User()\n",
    "\n",
    "        # Display default preferences\n",
    "        print(\"\\nDefault Preferences:\")\n",
    "        user.display_preference()\n",
    "\n",
    "        # Simulate user input\n",
    "        print(\"\\nUpdating preferences...\")\n",
    "        user.user_input()\n",
    "        print(\"\\nUpdated Preferences:\")\n",
    "        user.display_preference()\n",
    "\n",
    "    except Exception as e:\n",
    "        print(f\"Error during User Class test: {e}\")\n",
    "\n",
    "\n",
    "if __name__ == \"__main__\":\n",
    "    # Run tests for both classes\n",
    "    test_music_class()\n",
    "    print(\"\\n\" + \"-\" * 40 + \"\\n\")\n",
    "    test_user_class()"
   ]
  }
 ],
 "metadata": {
  "kernelspec": {
   "display_name": "Python 3 (ipykernel)",
   "language": "python",
   "name": "python3"
  },
  "language_info": {
   "codemirror_mode": {
    "name": "ipython",
    "version": 3
   },
   "file_extension": ".py",
   "mimetype": "text/x-python",
   "name": "python",
   "nbconvert_exporter": "python",
   "pygments_lexer": "ipython3",
   "version": "3.9.13"
  }
 },
 "nbformat": 4,
 "nbformat_minor": 5
}
